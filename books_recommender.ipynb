{
 "cells": [
  {
   "attachments": {},
   "cell_type": "markdown",
   "metadata": {},
   "source": [
    "# Book Recommendation System\n",
    "\n",
    "book recommendation system using [kaggle's goodread book data](https://www.kaggle.com/datasets/bahramjannesarr/goodreads-book-datasets-10m)"
   ]
  },
  {
   "attachments": {},
   "cell_type": "markdown",
   "metadata": {},
   "source": [
    "### imports and reading/cleaning data"
   ]
  },
  {
   "cell_type": "code",
   "execution_count": 1,
   "metadata": {},
   "outputs": [
    {
     "name": "stdout",
     "output_type": "stream",
     "text": [
      "goodreads_book_data/book1300k-1400k.csv\n",
      "goodreads_book_data/book600k-700k.csv\n",
      "goodreads_book_data/book1-100k.csv\n",
      "goodreads_book_data/book1400k-1500k.csv\n",
      "goodreads_book_data/book1900k-2000k.csv\n",
      "goodreads_book_data/book500k-600k.csv\n",
      "goodreads_book_data/user_rating_5000_to_6000.csv\n",
      "goodreads_book_data/book300k-400k.csv\n",
      "goodreads_book_data/user_rating_3000_to_4000.csv\n",
      "goodreads_book_data/book2000k-3000k.csv\n",
      "goodreads_book_data/book1000k-1100k.csv\n",
      "goodreads_book_data/user_rating_6000_to_11000.csv\n",
      "goodreads_book_data/book400k-500k.csv\n",
      "goodreads_book_data/book1800k-1900k.csv\n",
      "goodreads_book_data/book700k-800k.csv\n",
      "goodreads_book_data/user_rating_0_to_1000.csv\n",
      "goodreads_book_data/book4000k-5000k.csv\n",
      "goodreads_book_data/book1200k-1300k.csv\n",
      "goodreads_book_data/book900k-1000k.csv\n",
      "goodreads_book_data/book1500k-1600k.csv\n",
      "goodreads_book_data/user_rating_1000_to_2000.csv\n",
      "goodreads_book_data/book1600k-1700k.csv\n",
      "goodreads_book_data/book1100k-1200k.csv\n",
      "goodreads_book_data/book800k-900k.csv\n",
      "goodreads_book_data/book1700k-1800k.csv\n",
      "goodreads_book_data/book3000k-4000k.csv\n",
      "goodreads_book_data/user_rating_4000_to_5000.csv\n",
      "goodreads_book_data/book100k-200k.csv\n",
      "goodreads_book_data/book200k-300k.csv\n",
      "goodreads_book_data/user_rating_2000_to_3000.csv\n"
     ]
    }
   ],
   "source": [
    "import numpy as np # linear algebra\n",
    "import pandas as pd # data processing, CSV file I/O (e.g. pd.read_csv)\n",
    "import matplotlib.pyplot as plt\n",
    "import os\n",
    "\n",
    "for dirname, _, filenames in os.walk('goodreads_book_data/'):\n",
    "    for filename in filenames:\n",
    "        print(os.path.join(dirname, filename))"
   ]
  },
  {
   "cell_type": "code",
   "execution_count": 2,
   "metadata": {},
   "outputs": [
    {
     "name": "stdout",
     "output_type": "stream",
     "text": [
      "||book_df||\n",
      "  rows: 1850310\n",
      "  columns: 21\n",
      "||rating_df||\n",
      "  rows: 362596\n",
      "  columns: 3\n"
     ]
    }
   ],
   "source": [
    "# create books and ratings dataframes\n",
    "\n",
    "book_df = pd.DataFrame()\n",
    "rating_df = pd.DataFrame()\n",
    "\n",
    "for dirname, _, filenames in os.walk('goodreads_book_data/'):\n",
    "    for filename in filenames:\n",
    "        path = os.path.join(dirname, filename)\n",
    "        if 'book' in filename:\n",
    "            book_df = pd.concat([book_df, pd.read_csv(path)])\n",
    "        if 'rating' in filename:\n",
    "            rating_df = pd.concat([rating_df, pd.read_csv(path)])\n",
    "            \n",
    "print(f'||book_df||\\n  rows: {book_df.shape[0]}\\n  columns: {book_df.shape[1]}')\n",
    "print(f'||rating_df||\\n  rows: {rating_df.shape[0]}\\n  columns: {rating_df.shape[1]}')"
   ]
  },
  {
   "cell_type": "code",
   "execution_count": 3,
   "metadata": {},
   "outputs": [
    {
     "name": "stdout",
     "output_type": "stream",
     "text": [
      "number of users with at least one rating: 4154\n"
     ]
    }
   ],
   "source": [
    "# create dataframe of ratings removing users without any rating\n",
    "\n",
    "rating_df_clean = rating_df[rating_df['Name'] != 'Rating']\n",
    "\n",
    "# number of unique users with ratings\n",
    "\n",
    "n_users = rating_df_clean['ID'].unique().shape[0]\n",
    "print(f'number of users with at least one rating: {n_users}')\n",
    "user_id_dict = dict(tuple(zip(rating_df_clean['ID'].unique(), range(n_users))))"
   ]
  },
  {
   "cell_type": "code",
   "execution_count": 4,
   "metadata": {},
   "outputs": [
    {
     "data": {
      "text/html": [
       "<div>\n",
       "<style scoped>\n",
       "    .dataframe tbody tr th:only-of-type {\n",
       "        vertical-align: middle;\n",
       "    }\n",
       "\n",
       "    .dataframe tbody tr th {\n",
       "        vertical-align: top;\n",
       "    }\n",
       "\n",
       "    .dataframe thead th {\n",
       "        text-align: right;\n",
       "    }\n",
       "</style>\n",
       "<table border=\"1\" class=\"dataframe\">\n",
       "  <thead>\n",
       "    <tr style=\"text-align: right;\">\n",
       "      <th></th>\n",
       "      <th>ID</th>\n",
       "      <th>Name</th>\n",
       "      <th>Rating</th>\n",
       "      <th>rating_val</th>\n",
       "    </tr>\n",
       "  </thead>\n",
       "  <tbody>\n",
       "    <tr>\n",
       "      <th>0</th>\n",
       "      <td>5433</td>\n",
       "      <td>Of Mice and Men</td>\n",
       "      <td>really liked it</td>\n",
       "      <td>3</td>\n",
       "    </tr>\n",
       "    <tr>\n",
       "      <th>1</th>\n",
       "      <td>5473</td>\n",
       "      <td>Of Mice and Men</td>\n",
       "      <td>really liked it</td>\n",
       "      <td>3</td>\n",
       "    </tr>\n",
       "    <tr>\n",
       "      <th>2</th>\n",
       "      <td>5491</td>\n",
       "      <td>Of Mice and Men</td>\n",
       "      <td>liked it</td>\n",
       "      <td>2</td>\n",
       "    </tr>\n",
       "    <tr>\n",
       "      <th>3</th>\n",
       "      <td>5499</td>\n",
       "      <td>Of Mice and Men</td>\n",
       "      <td>liked it</td>\n",
       "      <td>2</td>\n",
       "    </tr>\n",
       "    <tr>\n",
       "      <th>4</th>\n",
       "      <td>5527</td>\n",
       "      <td>Of Mice and Men</td>\n",
       "      <td>liked it</td>\n",
       "      <td>2</td>\n",
       "    </tr>\n",
       "  </tbody>\n",
       "</table>\n",
       "</div>"
      ],
      "text/plain": [
       "     ID             Name           Rating  rating_val\n",
       "0  5433  Of Mice and Men  really liked it           3\n",
       "1  5473  Of Mice and Men  really liked it           3\n",
       "2  5491  Of Mice and Men         liked it           2\n",
       "3  5499  Of Mice and Men         liked it           2\n",
       "4  5527  Of Mice and Men         liked it           2"
      ]
     },
     "execution_count": 4,
     "metadata": {},
     "output_type": "execute_result"
    }
   ],
   "source": [
    "# assign number to ratings\n",
    "\n",
    "def rating_to_int(rating):\n",
    "    \"\"\"\n",
    "    Converts a book rating in text format to an integer value.\n",
    "\n",
    "    Parameters:\n",
    "    -----------\n",
    "    rating : str\n",
    "        The book rating in text format. It should be one of the following values: \"did not like it\", \"it was ok\",\n",
    "        \"liked it\", \"really liked it\", or \"it was amazing\".\n",
    "\n",
    "    Returns:\n",
    "    --------\n",
    "    int_rating : int\n",
    "        An integer value representing the book rating. The possible values are: 0, 1, 2, 3, or 4.\n",
    "        The mapping between the text ratings and integer values is as follows:\n",
    "        \"did not like it\"     -> 0\n",
    "        \"it was ok\"           -> 1\n",
    "        \"liked it\"            -> 2\n",
    "        \"really liked it\"     -> 3\n",
    "        \"it was amazing\"      -> 4\n",
    "    \"\"\"\n",
    "    \n",
    "    match rating:\n",
    "        case \"did not like it\":\n",
    "            return 0\n",
    "        case \"it was ok\":\n",
    "            return 1\n",
    "        case \"liked it\":\n",
    "            return 2\n",
    "        case \"really liked it\":\n",
    "            return 3\n",
    "        case \"it was amazing\":\n",
    "            return 4\n",
    "\n",
    "rating_val = [rating_to_int(rating) for rating in rating_df_clean['Rating']]\n",
    "rating_df_clean.insert(3, \"rating_val\", rating_val, False)\n",
    "rating_df_clean = rating_df_clean.reset_index(drop=True)\n",
    "rating_df_clean.head()"
   ]
  },
  {
   "attachments": {},
   "cell_type": "markdown",
   "metadata": {},
   "source": [
    "### data exploration"
   ]
  },
  {
   "cell_type": "code",
   "execution_count": 5,
   "metadata": {},
   "outputs": [
    {
     "data": {
      "image/png": "[encoded data removed]",
      "text/plain": [
       "<Figure size 640x480 with 1 Axes>"
      ]
     },
     "metadata": {},
     "output_type": "display_data"
    }
   ],
   "source": [
    "# distribution of ratings\n",
    "\n",
    "book_ratings = rating_df_clean['rating_val']\n",
    "\n",
    "# set up the bar locations and labels\n",
    "x = np.arange(1, 5)\n",
    "labels = ['1', '2', '3', '4']\n",
    "\n",
    "# calculate the counts for each rating value\n",
    "counts = [(book_ratings == i).sum() for i in x]\n",
    "\n",
    "# create the bar plot\n",
    "plt.bar(x, counts, edgecolor='black')\n",
    "\n",
    "# set the title and axis labels\n",
    "plt.title('Book Ratings')\n",
    "plt.xlabel('Rating')\n",
    "plt.ylabel('Count')\n",
    "\n",
    "# set the x-axis tick labels\n",
    "plt.xticks(x, labels)\n",
    "\n",
    "# show the plot\n",
    "plt.show()\n",
    "\n"
   ]
  },
  {
   "cell_type": "code",
   "execution_count": 6,
   "metadata": {},
   "outputs": [],
   "source": [
    "# create dataframes of movies that were rated\n",
    "\n",
    "rated_movies = pd.DataFrame({\"book\": rating_df_clean[\"Name\"].unique()}, index=rating_df_clean[\"Name\"].unique())"
   ]
  },
  {
   "cell_type": "code",
   "execution_count": 17,
   "metadata": {},
   "outputs": [
    {
     "data": {
      "image/png": "[encoded data removed]",
      "text/plain": [
       "<Figure size 640x480 with 1 Axes>"
      ]
     },
     "metadata": {},
     "output_type": "display_data"
    }
   ],
   "source": [
    "# calculate how many times each movie was rated \n",
    "\n",
    "total_ratings = rating_df_clean[\"Name\"].value_counts()\n",
    "rated_movies[\"total_ratings\"] = total_ratings\n",
    "\n",
    "# plot distribution of total ratings\n",
    "plt.hist(total_ratings, edgecolor='black', bins=len(total_ratings))\n",
    "\n",
    "# set the title and axis labels\n",
    "plt.title('Total Ratings Distribution')\n",
    "plt.xlabel('Total Ratings')\n",
    "plt.ylabel('Count')\n",
    "\n",
    "# show the plot\n",
    "plt.show()"
   ]
  },
  {
   "cell_type": "code",
   "execution_count": 8,
   "metadata": {},
   "outputs": [
    {
     "data": {
      "text/html": [
       "<div>\n",
       "<style scoped>\n",
       "    .dataframe tbody tr th:only-of-type {\n",
       "        vertical-align: middle;\n",
       "    }\n",
       "\n",
       "    .dataframe tbody tr th {\n",
       "        vertical-align: top;\n",
       "    }\n",
       "\n",
       "    .dataframe thead th {\n",
       "        text-align: right;\n",
       "    }\n",
       "</style>\n",
       "<table border=\"1\" class=\"dataframe\">\n",
       "  <thead>\n",
       "    <tr style=\"text-align: right;\">\n",
       "      <th></th>\n",
       "      <th>book</th>\n",
       "      <th>total_ratings</th>\n",
       "    </tr>\n",
       "  </thead>\n",
       "  <tbody>\n",
       "    <tr>\n",
       "      <th>The Catcher in the Rye</th>\n",
       "      <td>The Catcher in the Rye</td>\n",
       "      <td>985</td>\n",
       "    </tr>\n",
       "    <tr>\n",
       "      <th>The Great Gatsby</th>\n",
       "      <td>The Great Gatsby</td>\n",
       "      <td>885</td>\n",
       "    </tr>\n",
       "    <tr>\n",
       "      <th>The Da Vinci Code (Robert Langdon, #2)</th>\n",
       "      <td>The Da Vinci Code (Robert Langdon, #2)</td>\n",
       "      <td>846</td>\n",
       "    </tr>\n",
       "    <tr>\n",
       "      <th>To Kill a Mockingbird</th>\n",
       "      <td>To Kill a Mockingbird</td>\n",
       "      <td>830</td>\n",
       "    </tr>\n",
       "    <tr>\n",
       "      <th>1984</th>\n",
       "      <td>1984</td>\n",
       "      <td>756</td>\n",
       "    </tr>\n",
       "  </tbody>\n",
       "</table>\n",
       "</div>"
      ],
      "text/plain": [
       "                                                                          book   \n",
       "The Catcher in the Rye                                  The Catcher in the Rye  \\\n",
       "The Great Gatsby                                              The Great Gatsby   \n",
       "The Da Vinci Code (Robert Langdon, #2)  The Da Vinci Code (Robert Langdon, #2)   \n",
       "To Kill a Mockingbird                                    To Kill a Mockingbird   \n",
       "1984                                                                      1984   \n",
       "\n",
       "                                        total_ratings  \n",
       "The Catcher in the Rye                            985  \n",
       "The Great Gatsby                                  885  \n",
       "The Da Vinci Code (Robert Langdon, #2)            846  \n",
       "To Kill a Mockingbird                             830  \n",
       "1984                                              756  "
      ]
     },
     "execution_count": 8,
     "metadata": {},
     "output_type": "execute_result"
    }
   ],
   "source": [
    "# top 5 most rated books\n",
    "\n",
    "rated_movies.sort_values(\"total_ratings\",ascending=False).head()"
   ]
  },
  {
   "cell_type": "code",
   "execution_count": 9,
   "metadata": {},
   "outputs": [],
   "source": [
    "mean_ratings = rating_df_clean[[\"Name\",\"rating_val\"]].groupby(\"Name\").mean()\n",
    "rated_movies[\"mean_ratings\"] = mean_ratings"
   ]
  },
  {
   "cell_type": "code",
   "execution_count": 10,
   "metadata": {},
   "outputs": [
    {
     "data": {
      "text/html": [
       "<div>\n",
       "<style scoped>\n",
       "    .dataframe tbody tr th:only-of-type {\n",
       "        vertical-align: middle;\n",
       "    }\n",
       "\n",
       "    .dataframe tbody tr th {\n",
       "        vertical-align: top;\n",
       "    }\n",
       "\n",
       "    .dataframe thead th {\n",
       "        text-align: right;\n",
       "    }\n",
       "</style>\n",
       "<table border=\"1\" class=\"dataframe\">\n",
       "  <thead>\n",
       "    <tr style=\"text-align: right;\">\n",
       "      <th></th>\n",
       "      <th>book</th>\n",
       "      <th>total_ratings</th>\n",
       "      <th>mean_ratings</th>\n",
       "    </tr>\n",
       "  </thead>\n",
       "  <tbody>\n",
       "    <tr>\n",
       "      <th>The Divan</th>\n",
       "      <td>The Divan</td>\n",
       "      <td>64</td>\n",
       "      <td>3.625000</td>\n",
       "    </tr>\n",
       "    <tr>\n",
       "      <th>Cien años de soledad</th>\n",
       "      <td>Cien años de soledad</td>\n",
       "      <td>65</td>\n",
       "      <td>3.615385</td>\n",
       "    </tr>\n",
       "    <tr>\n",
       "      <th>Le petit prince</th>\n",
       "      <td>Le petit prince</td>\n",
       "      <td>62</td>\n",
       "      <td>3.612903</td>\n",
       "    </tr>\n",
       "    <tr>\n",
       "      <th>Between the World and Me</th>\n",
       "      <td>Between the World and Me</td>\n",
       "      <td>125</td>\n",
       "      <td>3.592000</td>\n",
       "    </tr>\n",
       "    <tr>\n",
       "      <th>Maus I: A Survivor's Tale: My Father Bleeds History (Maus, #1)</th>\n",
       "      <td>Maus I: A Survivor's Tale: My Father Bleeds Hi...</td>\n",
       "      <td>72</td>\n",
       "      <td>3.569444</td>\n",
       "    </tr>\n",
       "  </tbody>\n",
       "</table>\n",
       "</div>"
      ],
      "text/plain": [
       "                                                                                                 book   \n",
       "The Divan                                                                                   The Divan  \\\n",
       "Cien años de soledad                                                             Cien años de soledad   \n",
       "Le petit prince                                                                       Le petit prince   \n",
       "Between the World and Me                                                     Between the World and Me   \n",
       "Maus I: A Survivor's Tale: My Father Bleeds His...  Maus I: A Survivor's Tale: My Father Bleeds Hi...   \n",
       "\n",
       "                                                    total_ratings   \n",
       "The Divan                                                      64  \\\n",
       "Cien años de soledad                                           65   \n",
       "Le petit prince                                                62   \n",
       "Between the World and Me                                      125   \n",
       "Maus I: A Survivor's Tale: My Father Bleeds His...             72   \n",
       "\n",
       "                                                    mean_ratings  \n",
       "The Divan                                               3.625000  \n",
       "Cien años de soledad                                    3.615385  \n",
       "Le petit prince                                         3.612903  \n",
       "Between the World and Me                                3.592000  \n",
       "Maus I: A Survivor's Tale: My Father Bleeds His...      3.569444  "
      ]
     },
     "execution_count": 10,
     "metadata": {},
     "output_type": "execute_result"
    }
   ],
   "source": [
    "# top 5 best rated movies amongst books with more than 50 total ratings\n",
    "\n",
    "rated_movies.query(\"total_ratings >= 50\").sort_values(\"mean_ratings\",ascending=False).head()"
   ]
  },
  {
   "attachments": {},
   "cell_type": "markdown",
   "metadata": {},
   "source": [
    "### creating user-item matrix"
   ]
  },
  {
   "cell_type": "code",
   "execution_count": 11,
   "metadata": {},
   "outputs": [
    {
     "name": "stdout",
     "output_type": "stream",
     "text": [
      "there are 103532 books with ratings in the dataset\n"
     ]
    }
   ],
   "source": [
    "# books with ratings\n",
    "\n",
    "books_with_rating = rating_df_clean[\"Name\"].unique()\n",
    "print(f'there are {books_with_rating.shape[0]} books with ratings in the dataset')\n",
    "\n",
    "book_id_dict = dict(tuple(zip(books_with_rating, range(len(books_with_rating)))))"
   ]
  },
  {
   "cell_type": "code",
   "execution_count": 12,
   "metadata": {},
   "outputs": [],
   "source": [
    "def create_user_item_matrix(rating_df=rating_df_clean, user_id_dict=user_id_dict, book_id_dict=book_id_dict):\n",
    "    \"\"\"\n",
    "    Returns a user-item matrix based on a given ratings dataframe, and dictionaries that map user and book IDs to indices.\n",
    "\n",
    "    Parameters:\n",
    "    -----------\n",
    "    rating_df : pandas DataFrame, default rating_df_clean\n",
    "        A dataframe containing user ratings for books. It should have columns named \"ID\", \"Name\", and \"rating_val\".\n",
    "    user_id_dict : dict, default user_id_dict\n",
    "        A dictionary mapping user IDs to indices in the resulting user-item matrix.\n",
    "    book_id_dict : dict, default book_id_dict\n",
    "        A dictionary mapping book IDs to indices in the resulting user-item matrix.\n",
    "\n",
    "    Returns:\n",
    "    --------\n",
    "    user_item_matrix : numpy array\n",
    "        A 2D numpy array representing the user-item matrix. The rows represent users, and the columns represent books.\n",
    "        The values in the matrix are the ratings given by the users for the corresponding books.\n",
    "    \"\"\"\n",
    "    \n",
    "    n_users = len(user_id_dict)\n",
    "    n_books = len(books_with_rating)\n",
    "\n",
    "    user_item_matrix = np.zeros((n_users, n_books))\n",
    "\n",
    "    for i in range(rating_df_clean.shape[0]):\n",
    "        rating = rating_df_clean.loc[i]\n",
    "        user_item_matrix[user_id_dict[rating[\"ID\"]], book_id_dict[rating[\"Name\"]]] = rating[\"rating_val\"]\n",
    "    \n",
    "    return user_item_matrix"
   ]
  },
  {
   "cell_type": "code",
   "execution_count": 13,
   "metadata": {},
   "outputs": [],
   "source": [
    "user_item_matrix = create_user_item_matrix()"
   ]
  },
  {
   "attachments": {},
   "cell_type": "markdown",
   "metadata": {},
   "source": [
    "### single value decomposition"
   ]
  },
  {
   "cell_type": "code",
   "execution_count": 14,
   "metadata": {},
   "outputs": [],
   "source": [
    "# demeaning user-item matrix\n",
    "\n",
    "user_rating_means = np.mean(user_item_matrix, axis=1)\n",
    "R = user_item_matrix - user_rating_means.reshape(-1,1)"
   ]
  },
  {
   "cell_type": "code",
   "execution_count": 19,
   "metadata": {},
   "outputs": [],
   "source": [
    "# apply svd (singular value decomposition) fot matrix factorization\n",
    "\n",
    "from scipy.sparse.linalg import svds\n",
    "U, sigma, Vt = svds(R, k = 50)\n",
    "sigma = np.diag(sigma)"
   ]
  },
  {
   "cell_type": "code",
   "execution_count": 25,
   "metadata": {},
   "outputs": [],
   "source": [
    "# predict ratings for every user\n",
    "\n",
    "all_user_predicted_ratings = np.dot(np.dot(U, sigma), Vt) + user_rating_means.reshape(-1, 1)\n",
    "preds_df = pd.DataFrame(all_user_predicted_ratings, columns=books_with_rating)"
   ]
  },
  {
   "attachments": {},
   "cell_type": "markdown",
   "metadata": {},
   "source": [
    "### k-nearest neighbors"
   ]
  }
 ],
 "metadata": {
  "kernelspec": {
   "display_name": "Python 3",
   "language": "python",
   "name": "python3"
  },
  "language_info": {
   "codemirror_mode": {
    "name": "ipython",
    "version": 3
   },
   "file_extension": ".py",
   "mimetype": "text/x-python",
   "name": "python",
   "nbconvert_exporter": "python",
   "pygments_lexer": "ipython3",
   "version": "3.10.6"
  },
  "orig_nbformat": 4
 },
 "nbformat": 4,
 "nbformat_minor": 2
}
